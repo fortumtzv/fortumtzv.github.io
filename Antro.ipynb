{
 "cells": [
  {
   "cell_type": "code",
   "execution_count": 3,
   "metadata": {},
   "outputs": [],
   "source": [
    "import matplotlib.pyplot as plt\n",
    "import seaborn as sns\n",
    "import pandas as pd\n",
    "import statsmodels.api as sm "
   ]
  },
  {
   "cell_type": "code",
   "execution_count": 4,
   "metadata": {},
   "outputs": [
    {
     "data": {
      "text/html": [
       "<div>\n",
       "<style scoped>\n",
       "    .dataframe tbody tr th:only-of-type {\n",
       "        vertical-align: middle;\n",
       "    }\n",
       "\n",
       "    .dataframe tbody tr th {\n",
       "        vertical-align: top;\n",
       "    }\n",
       "\n",
       "    .dataframe thead th {\n",
       "        text-align: right;\n",
       "    }\n",
       "</style>\n",
       "<table border=\"1\" class=\"dataframe\">\n",
       "  <thead>\n",
       "    <tr style=\"text-align: right;\">\n",
       "      <th></th>\n",
       "      <th>folio</th>\n",
       "      <th>intp</th>\n",
       "      <th>entidad</th>\n",
       "      <th>desc_ent</th>\n",
       "      <th>sexo</th>\n",
       "      <th>edad</th>\n",
       "      <th>meses</th>\n",
       "      <th>peso</th>\n",
       "      <th>ropa</th>\n",
       "      <th>talla</th>\n",
       "      <th>...</th>\n",
       "      <th>hpresion</th>\n",
       "      <th>tbrazo</th>\n",
       "      <th>htension</th>\n",
       "      <th>PrimaryLast</th>\n",
       "      <th>code_upm</th>\n",
       "      <th>est_dis</th>\n",
       "      <th>est_urb</th>\n",
       "      <th>est_marg</th>\n",
       "      <th>pondef</th>\n",
       "      <th>est_var</th>\n",
       "    </tr>\n",
       "  </thead>\n",
       "  <tbody>\n",
       "    <tr>\n",
       "      <th>0</th>\n",
       "      <td>210295</td>\n",
       "      <td>2</td>\n",
       "      <td>21</td>\n",
       "      <td>PUEBLA</td>\n",
       "      <td>2</td>\n",
       "      <td>38</td>\n",
       "      <td>8</td>\n",
       "      <td>73.70</td>\n",
       "      <td>2</td>\n",
       "      <td>146.4</td>\n",
       "      <td>...</td>\n",
       "      <td>16:30</td>\n",
       "      <td>2</td>\n",
       "      <td>16:35</td>\n",
       "      <td>1</td>\n",
       "      <td>R2101</td>\n",
       "      <td>5</td>\n",
       "      <td>3</td>\n",
       "      <td>1</td>\n",
       "      <td>3470.002176</td>\n",
       "      <td>215</td>\n",
       "    </tr>\n",
       "    <tr>\n",
       "      <th>1</th>\n",
       "      <td>101655</td>\n",
       "      <td>3</td>\n",
       "      <td>10</td>\n",
       "      <td>DURANGO</td>\n",
       "      <td>2</td>\n",
       "      <td>11</td>\n",
       "      <td>11</td>\n",
       "      <td>35.65</td>\n",
       "      <td>2</td>\n",
       "      <td>145.1</td>\n",
       "      <td>...</td>\n",
       "      <td>15:25</td>\n",
       "      <td>3</td>\n",
       "      <td>15:25</td>\n",
       "      <td>1</td>\n",
       "      <td>M1041</td>\n",
       "      <td>1</td>\n",
       "      <td>1</td>\n",
       "      <td>1</td>\n",
       "      <td>417.946672</td>\n",
       "      <td>101</td>\n",
       "    </tr>\n",
       "    <tr>\n",
       "      <th>2</th>\n",
       "      <td>10287</td>\n",
       "      <td>6</td>\n",
       "      <td>1</td>\n",
       "      <td>AGUASCALIENTES</td>\n",
       "      <td>2</td>\n",
       "      <td>18</td>\n",
       "      <td>8</td>\n",
       "      <td>54.80</td>\n",
       "      <td>1</td>\n",
       "      <td>162.0</td>\n",
       "      <td>...</td>\n",
       "      <td>9:40</td>\n",
       "      <td>1</td>\n",
       "      <td>9:40</td>\n",
       "      <td>1</td>\n",
       "      <td>M0108</td>\n",
       "      <td>5</td>\n",
       "      <td>3</td>\n",
       "      <td>1</td>\n",
       "      <td>472.980811</td>\n",
       "      <td>15</td>\n",
       "    </tr>\n",
       "    <tr>\n",
       "      <th>3</th>\n",
       "      <td>91526</td>\n",
       "      <td>4</td>\n",
       "      <td>9</td>\n",
       "      <td>DISTRITO FEDERAL</td>\n",
       "      <td>1</td>\n",
       "      <td>10</td>\n",
       "      <td>8</td>\n",
       "      <td>33.40</td>\n",
       "      <td>2</td>\n",
       "      <td>146.5</td>\n",
       "      <td>...</td>\n",
       "      <td>7:40</td>\n",
       "      <td>3</td>\n",
       "      <td>7:45</td>\n",
       "      <td>1</td>\n",
       "      <td>M0931</td>\n",
       "      <td>4</td>\n",
       "      <td>3</td>\n",
       "      <td>2</td>\n",
       "      <td>1832.581391</td>\n",
       "      <td>94</td>\n",
       "    </tr>\n",
       "    <tr>\n",
       "      <th>4</th>\n",
       "      <td>210939</td>\n",
       "      <td>3</td>\n",
       "      <td>21</td>\n",
       "      <td>PUEBLA</td>\n",
       "      <td>2</td>\n",
       "      <td>19</td>\n",
       "      <td>3</td>\n",
       "      <td>97.95</td>\n",
       "      <td>2</td>\n",
       "      <td>161.0</td>\n",
       "      <td>...</td>\n",
       "      <td>6:00</td>\n",
       "      <td>2</td>\n",
       "      <td>6:00</td>\n",
       "      <td>1</td>\n",
       "      <td>M2123</td>\n",
       "      <td>5</td>\n",
       "      <td>3</td>\n",
       "      <td>1</td>\n",
       "      <td>7622.066564</td>\n",
       "      <td>215</td>\n",
       "    </tr>\n",
       "  </tbody>\n",
       "</table>\n",
       "<p>5 rows × 26 columns</p>\n",
       "</div>"
      ],
      "text/plain": [
       "    folio  intp  entidad          desc_ent  sexo  edad  meses   peso  ropa  \\\n",
       "0  210295     2       21            PUEBLA     2    38      8  73.70     2   \n",
       "1  101655     3       10           DURANGO     2    11     11  35.65     2   \n",
       "2   10287     6        1    AGUASCALIENTES     2    18      8  54.80     1   \n",
       "3   91526     4        9  DISTRITO FEDERAL     1    10      8  33.40     2   \n",
       "4  210939     3       21            PUEBLA     2    19      3  97.95     2   \n",
       "\n",
       "   talla  ... hpresion tbrazo  htension  PrimaryLast  code_upm  est_dis  \\\n",
       "0  146.4  ...    16:30      2     16:35            1     R2101        5   \n",
       "1  145.1  ...    15:25      3     15:25            1     M1041        1   \n",
       "2  162.0  ...     9:40      1      9:40            1     M0108        5   \n",
       "3  146.5  ...     7:40      3      7:45            1     M0931        4   \n",
       "4  161.0  ...     6:00      2      6:00            1     M2123        5   \n",
       "\n",
       "  est_urb est_marg       pondef  est_var  \n",
       "0       3        1  3470.002176      215  \n",
       "1       1        1   417.946672      101  \n",
       "2       3        1   472.980811       15  \n",
       "3       3        2  1832.581391       94  \n",
       "4       3        1  7622.066564      215  \n",
       "\n",
       "[5 rows x 26 columns]"
      ]
     },
     "execution_count": 4,
     "metadata": {},
     "output_type": "execute_result"
    }
   ],
   "source": [
    "df = pd.read_csv('antropometria-dataset.csv')\n",
    "df.head()"
   ]
  },
  {
   "cell_type": "code",
   "execution_count": 5,
   "metadata": {},
   "outputs": [
    {
     "data": {
      "text/plain": [
       "(18640, 26)"
      ]
     },
     "execution_count": 5,
     "metadata": {},
     "output_type": "execute_result"
    }
   ],
   "source": [
    "df.shape"
   ]
  },
  {
   "cell_type": "code",
   "execution_count": 6,
   "metadata": {},
   "outputs": [
    {
     "data": {
      "text/plain": [
       "Index(['folio', 'intp', 'entidad', 'desc_ent', 'sexo', 'edad', 'meses', 'peso',\n",
       "       'ropa', 'talla', 'emb', 'temb', 'cintura', 'cadera', 'sistol',\n",
       "       'diastol', 'hpresion', 'tbrazo', 'htension', 'PrimaryLast', 'code_upm',\n",
       "       'est_dis', 'est_urb', 'est_marg', 'pondef', 'est_var'],\n",
       "      dtype='object')"
      ]
     },
     "execution_count": 6,
     "metadata": {},
     "output_type": "execute_result"
    }
   ],
   "source": [
    "df.columns"
   ]
  },
  {
   "cell_type": "code",
   "execution_count": 8,
   "metadata": {},
   "outputs": [
    {
     "data": {
      "text/html": [
       "<div>\n",
       "<style scoped>\n",
       "    .dataframe tbody tr th:only-of-type {\n",
       "        vertical-align: middle;\n",
       "    }\n",
       "\n",
       "    .dataframe tbody tr th {\n",
       "        vertical-align: top;\n",
       "    }\n",
       "\n",
       "    .dataframe thead th {\n",
       "        text-align: right;\n",
       "    }\n",
       "</style>\n",
       "<table border=\"1\" class=\"dataframe\">\n",
       "  <thead>\n",
       "    <tr style=\"text-align: right;\">\n",
       "      <th></th>\n",
       "      <th>edad</th>\n",
       "      <th>peso</th>\n",
       "      <th>talla</th>\n",
       "      <th>cintura</th>\n",
       "      <th>cadera</th>\n",
       "      <th>sistol</th>\n",
       "      <th>diastol</th>\n",
       "    </tr>\n",
       "  </thead>\n",
       "  <tbody>\n",
       "    <tr>\n",
       "      <th>edad</th>\n",
       "      <td>1.000000</td>\n",
       "      <td>0.318568</td>\n",
       "      <td>0.017608</td>\n",
       "      <td>0.478879</td>\n",
       "      <td>0.340062</td>\n",
       "      <td>0.535053</td>\n",
       "      <td>0.344207</td>\n",
       "    </tr>\n",
       "    <tr>\n",
       "      <th>peso</th>\n",
       "      <td>0.318568</td>\n",
       "      <td>1.000000</td>\n",
       "      <td>0.558683</td>\n",
       "      <td>0.791677</td>\n",
       "      <td>0.777061</td>\n",
       "      <td>0.355847</td>\n",
       "      <td>0.361438</td>\n",
       "    </tr>\n",
       "    <tr>\n",
       "      <th>talla</th>\n",
       "      <td>0.017608</td>\n",
       "      <td>0.558683</td>\n",
       "      <td>1.000000</td>\n",
       "      <td>0.245208</td>\n",
       "      <td>0.273173</td>\n",
       "      <td>0.140266</td>\n",
       "      <td>0.151905</td>\n",
       "    </tr>\n",
       "    <tr>\n",
       "      <th>cintura</th>\n",
       "      <td>0.478879</td>\n",
       "      <td>0.791677</td>\n",
       "      <td>0.245208</td>\n",
       "      <td>1.000000</td>\n",
       "      <td>0.863396</td>\n",
       "      <td>0.403265</td>\n",
       "      <td>0.362961</td>\n",
       "    </tr>\n",
       "    <tr>\n",
       "      <th>cadera</th>\n",
       "      <td>0.340062</td>\n",
       "      <td>0.777061</td>\n",
       "      <td>0.273173</td>\n",
       "      <td>0.863396</td>\n",
       "      <td>1.000000</td>\n",
       "      <td>0.307012</td>\n",
       "      <td>0.296613</td>\n",
       "    </tr>\n",
       "    <tr>\n",
       "      <th>sistol</th>\n",
       "      <td>0.535053</td>\n",
       "      <td>0.355847</td>\n",
       "      <td>0.140266</td>\n",
       "      <td>0.403265</td>\n",
       "      <td>0.307012</td>\n",
       "      <td>1.000000</td>\n",
       "      <td>0.662332</td>\n",
       "    </tr>\n",
       "    <tr>\n",
       "      <th>diastol</th>\n",
       "      <td>0.344207</td>\n",
       "      <td>0.361438</td>\n",
       "      <td>0.151905</td>\n",
       "      <td>0.362961</td>\n",
       "      <td>0.296613</td>\n",
       "      <td>0.662332</td>\n",
       "      <td>1.000000</td>\n",
       "    </tr>\n",
       "  </tbody>\n",
       "</table>\n",
       "</div>"
      ],
      "text/plain": [
       "             edad      peso     talla   cintura    cadera    sistol   diastol\n",
       "edad     1.000000  0.318568  0.017608  0.478879  0.340062  0.535053  0.344207\n",
       "peso     0.318568  1.000000  0.558683  0.791677  0.777061  0.355847  0.361438\n",
       "talla    0.017608  0.558683  1.000000  0.245208  0.273173  0.140266  0.151905\n",
       "cintura  0.478879  0.791677  0.245208  1.000000  0.863396  0.403265  0.362961\n",
       "cadera   0.340062  0.777061  0.273173  0.863396  1.000000  0.307012  0.296613\n",
       "sistol   0.535053  0.355847  0.140266  0.403265  0.307012  1.000000  0.662332\n",
       "diastol  0.344207  0.361438  0.151905  0.362961  0.296613  0.662332  1.000000"
      ]
     },
     "execution_count": 8,
     "metadata": {},
     "output_type": "execute_result"
    }
   ],
   "source": [
    "vars = ['edad', 'peso', 'talla', 'cintura', 'cadera', 'sistol', 'diastol']\n",
    "df = df[vars].dropna()\n",
    "df[vars].corr()"
   ]
  },
  {
   "cell_type": "code",
   "execution_count": 12,
   "metadata": {},
   "outputs": [],
   "source": [
    "x = pd.DataFrame(df['cintura'])\n",
    "x = sm.add_constant(X)\n",
    "y = pd.DataFrame(df['peso'])"
   ]
  },
  {
   "cell_type": "code",
   "execution_count": 13,
   "metadata": {},
   "outputs": [],
   "source": [
    "from sklearn.model_selection import train_test_split\n",
    "x_train, x_test, y_train, y_test = train_test_split(x,y, test_size=0.30, random_state=42)"
   ]
  },
  {
   "cell_type": "code",
   "execution_count": 14,
   "metadata": {},
   "outputs": [
    {
     "name": "stdout",
     "output_type": "stream",
     "text": [
      "       const  cintura\n",
      "13244    1.0    85.65\n",
      "3073     1.0    72.90\n",
      "3544     1.0    98.50\n",
      "2521     1.0    82.30\n",
      "8912     1.0    81.05\n",
      "(12622, 2)\n"
     ]
    }
   ],
   "source": [
    "print(x_train.head())\n",
    "print(x_train.shape)"
   ]
  },
  {
   "cell_type": "code",
   "execution_count": 21,
   "metadata": {},
   "outputs": [
    {
     "name": "stdout",
     "output_type": "stream",
     "text": [
      "       const  cintura\n",
      "13704    1.0    87.05\n",
      "5497     1.0    76.10\n",
      "13049    1.0   136.80\n",
      "13880    1.0    91.50\n",
      "15012    1.0    91.70\n",
      "(5410, 2)\n"
     ]
    }
   ],
   "source": [
    "print(x_test.head())\n",
    "print(x_test.shape)\n"
   ]
  },
  {
   "cell_type": "code",
   "execution_count": 22,
   "metadata": {},
   "outputs": [
    {
     "name": "stdout",
     "output_type": "stream",
     "text": [
      "        peso\n",
      "13244  60.15\n",
      "3073   47.65\n",
      "3544   79.05\n",
      "2521   53.20\n",
      "8912   55.35\n"
     ]
    }
   ],
   "source": [
    "print(y_train.head())"
   ]
  },
  {
   "cell_type": "code",
   "execution_count": 23,
   "metadata": {},
   "outputs": [
    {
     "name": "stdout",
     "output_type": "stream",
     "text": [
      "        peso\n",
      "13244  60.15\n",
      "3073   47.65\n",
      "3544   79.05\n",
      "2521   53.20\n",
      "8912   55.35\n"
     ]
    }
   ],
   "source": [
    "print(y_train.head())"
   ]
  },
  {
   "cell_type": "code",
   "execution_count": 24,
   "metadata": {},
   "outputs": [],
   "source": [
    "model = sm.OLS(y_train, x_train)\n",
    "model = model.fit()"
   ]
  },
  {
   "cell_type": "code",
   "execution_count": 25,
   "metadata": {},
   "outputs": [
    {
     "data": {
      "text/plain": [
       "<statsmodels.regression.linear_model.RegressionResultsWrapper at 0x225cfba3af0>"
      ]
     },
     "execution_count": 25,
     "metadata": {},
     "output_type": "execute_result"
    }
   ],
   "source": [
    "model"
   ]
  },
  {
   "cell_type": "code",
   "execution_count": 26,
   "metadata": {},
   "outputs": [
    {
     "name": "stdout",
     "output_type": "stream",
     "text": [
      "                            OLS Regression Results                            \n",
      "==============================================================================\n",
      "Dep. Variable:                   peso   R-squared:                       0.635\n",
      "Model:                            OLS   Adj. R-squared:                  0.635\n",
      "Method:                 Least Squares   F-statistic:                 2.200e+04\n",
      "Date:                Mon, 26 Sep 2022   Prob (F-statistic):               0.00\n",
      "Time:                        11:50:50   Log-Likelihood:                -47896.\n",
      "No. Observations:               12622   AIC:                         9.580e+04\n",
      "Df Residuals:                   12620   BIC:                         9.581e+04\n",
      "Df Model:                           1                                         \n",
      "Covariance Type:            nonrobust                                         \n",
      "==============================================================================\n",
      "                 coef    std err          t      P>|t|      [0.025      0.975]\n",
      "------------------------------------------------------------------------------\n",
      "const         -9.2717      0.508    -18.269      0.000     -10.266      -8.277\n",
      "cintura        0.8429      0.006    148.324      0.000       0.832       0.854\n",
      "==============================================================================\n",
      "Omnibus:                     8927.568   Durbin-Watson:                   2.001\n",
      "Prob(Omnibus):                  0.000   Jarque-Bera (JB):           742200.517\n",
      "Skew:                          -2.672   Prob(JB):                         0.00\n",
      "Kurtosis:                      40.184   Cond. No.                         473.\n",
      "==============================================================================\n",
      "\n",
      "Notes:\n",
      "[1] Standard Errors assume that the covariance matrix of the errors is correctly specified.\n"
     ]
    }
   ],
   "source": [
    "print(model.summary())"
   ]
  },
  {
   "cell_type": "code",
   "execution_count": 27,
   "metadata": {},
   "outputs": [
    {
     "data": {
      "text/plain": [
       "13244    -2.776848\n",
       "3073     -4.529253\n",
       "3544      5.291262\n",
       "2521     -6.902970\n",
       "8912     -3.699284\n",
       "           ...    \n",
       "11795    15.828954\n",
       "12495    14.442383\n",
       "5684     -2.344158\n",
       "903      -6.297042\n",
       "16394    -8.027649\n",
       "Length: 12622, dtype: float64"
      ]
     },
     "execution_count": 27,
     "metadata": {},
     "output_type": "execute_result"
    }
   ],
   "source": [
    "residual_values = model.resid\n",
    "residual_values"
   ]
  },
  {
   "cell_type": "code",
   "execution_count": 28,
   "metadata": {},
   "outputs": [
    {
     "data": {
      "text/plain": [
       "13244    62.926848\n",
       "3073     52.179253\n",
       "3544     73.758738\n",
       "2521     60.102970\n",
       "8912     59.049284\n",
       "           ...    \n",
       "11795    75.276046\n",
       "12495    70.007617\n",
       "5684     44.719158\n",
       "903      44.972042\n",
       "16394    63.727649\n",
       "Length: 12622, dtype: float64"
      ]
     },
     "execution_count": 28,
     "metadata": {},
     "output_type": "execute_result"
    }
   ],
   "source": [
    "m1_pred = model.fittedvalues\n",
    "m1_pred"
   ]
  },
  {
   "cell_type": "code",
   "execution_count": 29,
   "metadata": {},
   "outputs": [
    {
     "data": {
      "text/html": [
       "<div>\n",
       "<style scoped>\n",
       "    .dataframe tbody tr th:only-of-type {\n",
       "        vertical-align: middle;\n",
       "    }\n",
       "\n",
       "    .dataframe tbody tr th {\n",
       "        vertical-align: top;\n",
       "    }\n",
       "\n",
       "    .dataframe thead th {\n",
       "        text-align: right;\n",
       "    }\n",
       "</style>\n",
       "<table border=\"1\" class=\"dataframe\">\n",
       "  <thead>\n",
       "    <tr style=\"text-align: right;\">\n",
       "      <th></th>\n",
       "      <th>peso</th>\n",
       "    </tr>\n",
       "  </thead>\n",
       "  <tbody>\n",
       "    <tr>\n",
       "      <th>13244</th>\n",
       "      <td>60.15</td>\n",
       "    </tr>\n",
       "    <tr>\n",
       "      <th>3073</th>\n",
       "      <td>47.65</td>\n",
       "    </tr>\n",
       "  </tbody>\n",
       "</table>\n",
       "</div>"
      ],
      "text/plain": [
       "        peso\n",
       "13244  60.15\n",
       "3073   47.65"
      ]
     },
     "execution_count": 29,
     "metadata": {},
     "output_type": "execute_result"
    }
   ],
   "source": [
    "y_train.head(2)"
   ]
  },
  {
   "cell_type": "code",
   "execution_count": 30,
   "metadata": {},
   "outputs": [
    {
     "data": {
      "text/plain": [
       "<AxesSubplot: ylabel='Count'>"
      ]
     },
     "execution_count": 30,
     "metadata": {},
     "output_type": "execute_result"
    },
    {
     "data": {
      "image/png": "[encoded data removed]",
      "text/plain": [
       "<Figure size 432x288 with 1 Axes>"
      ]
     },
     "metadata": {
      "needs_background": "light"
     },
     "output_type": "display_data"
    }
   ],
   "source": [
    "sns.histplot(model.resid)"
   ]
  },
  {
   "cell_type": "code",
   "execution_count": 32,
   "metadata": {},
   "outputs": [
    {
     "data": {
      "image/png": "[encoded data removed]",
      "text/plain": [
       "<Figure size 432x288 with 1 Axes>"
      ]
     },
     "metadata": {
      "needs_background": "light"
     },
     "output_type": "display_data"
    }
   ],
   "source": [
    "sm.qqplot(model.resid, line='s');"
   ]
  },
  {
   "cell_type": "code",
   "execution_count": 33,
   "metadata": {},
   "outputs": [
    {
     "name": "stderr",
     "output_type": "stream",
     "text": [
      "c:\\Users\\42mar\\AppData\\Local\\Programs\\Python\\Python310\\lib\\site-packages\\scipy\\stats\\_morestats.py:1800: UserWarning: p-value may not be accurate for N > 5000.\n",
      "  warnings.warn(\"p-value may not be accurate for N > 5000.\")\n"
     ]
    },
    {
     "data": {
      "text/plain": [
       "ShapiroResult(statistic=0.824905276298523, pvalue=0.0)"
      ]
     },
     "execution_count": 33,
     "metadata": {},
     "output_type": "execute_result"
    }
   ],
   "source": [
    "from scipy.stats import shapiro\n",
    "shapiro(model.resid)\n"
   ]
  },
  {
   "cell_type": "code",
   "execution_count": 34,
   "metadata": {},
   "outputs": [
    {
     "data": {
      "text/plain": [
       "13704     64.106976\n",
       "5497      54.876689\n",
       "13049    106.043670\n",
       "13880     67.858098\n",
       "15012     68.026687\n",
       "            ...    \n",
       "18134     68.701046\n",
       "6773      74.138065\n",
       "10395     70.344796\n",
       "12994     85.475724\n",
       "9274      74.601687\n",
       "Length: 5410, dtype: float64"
      ]
     },
     "execution_count": 34,
     "metadata": {},
     "output_type": "execute_result"
    }
   ],
   "source": [
    "model.predict(x_test)"
   ]
  },
  {
   "cell_type": "code",
   "execution_count": null,
   "metadata": {},
   "outputs": [],
   "source": []
  }
 ],
 "metadata": {
  "kernelspec": {
   "display_name": "Python 3.10.6 64-bit",
   "language": "python",
   "name": "python3"
  },
  "language_info": {
   "codemirror_mode": {
    "name": "ipython",
    "version": 3
   },
   "file_extension": ".py",
   "mimetype": "text/x-python",
   "name": "python",
   "nbconvert_exporter": "python",
   "pygments_lexer": "ipython3",
   "version": "3.10.6"
  },
  "orig_nbformat": 4,
  "vscode": {
   "interpreter": {
    "hash": "117082df951c849321c6efc5b30dbd0ab21676046972c42303b0024307878222"
   }
  }
 },
 "nbformat": 4,
 "nbformat_minor": 2
}
