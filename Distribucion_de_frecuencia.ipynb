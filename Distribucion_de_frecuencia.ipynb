{
 "cells": [
  {
   "cell_type": "code",
   "execution_count": 14,
   "metadata": {},
   "outputs": [
    {
     "data": {
      "text/html": [
       "<div>\n",
       "<style scoped>\n",
       "    .dataframe tbody tr th:only-of-type {\n",
       "        vertical-align: middle;\n",
       "    }\n",
       "\n",
       "    .dataframe tbody tr th {\n",
       "        vertical-align: top;\n",
       "    }\n",
       "\n",
       "    .dataframe thead th {\n",
       "        text-align: right;\n",
       "    }\n",
       "</style>\n",
       "<table border=\"1\" class=\"dataframe\">\n",
       "  <thead>\n",
       "    <tr style=\"text-align: right;\">\n",
       "      <th></th>\n",
       "      <th>datos</th>\n",
       "    </tr>\n",
       "  </thead>\n",
       "  <tbody>\n",
       "    <tr>\n",
       "      <th>0</th>\n",
       "      <td>6.5</td>\n",
       "    </tr>\n",
       "    <tr>\n",
       "      <th>1</th>\n",
       "      <td>5.0</td>\n",
       "    </tr>\n",
       "    <tr>\n",
       "      <th>2</th>\n",
       "      <td>5.6</td>\n",
       "    </tr>\n",
       "    <tr>\n",
       "      <th>3</th>\n",
       "      <td>7.6</td>\n",
       "    </tr>\n",
       "    <tr>\n",
       "      <th>4</th>\n",
       "      <td>4.8</td>\n",
       "    </tr>\n",
       "  </tbody>\n",
       "</table>\n",
       "</div>"
      ],
      "text/plain": [
       "   datos\n",
       "0    6.5\n",
       "1    5.0\n",
       "2    5.6\n",
       "3    7.6\n",
       "4    4.8"
      ]
     },
     "execution_count": 14,
     "metadata": {},
     "output_type": "execute_result"
    }
   ],
   "source": [
    "import pandas as pd\n",
    "\n",
    "df = pd.DataFrame()\n",
    "\n",
    "\n",
    "datos = [6.5,5.0,5.6,7.6,4.8,8.0,7.5,7.9,8.0,9.2,\n",
    "6.4,6.0,5.6,6.0,5.7,9.2,8.1,8.0,6.5,6.6,\n",
    "5.0,8.0,6.5,6.1,6.4,6.6,7.2,5.9,4.0,5.7,\n",
    "7.9,6.0,5.6,6.0,6.2,7.7,6.7,7.7,8.2,9.0]\n",
    "\n",
    "df['datos'] = datos\n",
    "df.head()"
   ]
  },
  {
   "cell_type": "code",
   "execution_count": 15,
   "metadata": {},
   "outputs": [
    {
     "data": {
      "text/html": [
       "<div>\n",
       "<style scoped>\n",
       "    .dataframe tbody tr th:only-of-type {\n",
       "        vertical-align: middle;\n",
       "    }\n",
       "\n",
       "    .dataframe tbody tr th {\n",
       "        vertical-align: top;\n",
       "    }\n",
       "\n",
       "    .dataframe thead th {\n",
       "        text-align: right;\n",
       "    }\n",
       "</style>\n",
       "<table border=\"1\" class=\"dataframe\">\n",
       "  <thead>\n",
       "    <tr style=\"text-align: right;\">\n",
       "      <th></th>\n",
       "      <th>frequency</th>\n",
       "    </tr>\n",
       "    <tr>\n",
       "      <th>datos</th>\n",
       "      <th></th>\n",
       "    </tr>\n",
       "  </thead>\n",
       "  <tbody>\n",
       "    <tr>\n",
       "      <th>4.0</th>\n",
       "      <td>1</td>\n",
       "    </tr>\n",
       "    <tr>\n",
       "      <th>4.8</th>\n",
       "      <td>1</td>\n",
       "    </tr>\n",
       "    <tr>\n",
       "      <th>5.0</th>\n",
       "      <td>2</td>\n",
       "    </tr>\n",
       "    <tr>\n",
       "      <th>5.6</th>\n",
       "      <td>3</td>\n",
       "    </tr>\n",
       "    <tr>\n",
       "      <th>5.7</th>\n",
       "      <td>2</td>\n",
       "    </tr>\n",
       "    <tr>\n",
       "      <th>5.9</th>\n",
       "      <td>1</td>\n",
       "    </tr>\n",
       "    <tr>\n",
       "      <th>6.0</th>\n",
       "      <td>4</td>\n",
       "    </tr>\n",
       "    <tr>\n",
       "      <th>6.1</th>\n",
       "      <td>1</td>\n",
       "    </tr>\n",
       "    <tr>\n",
       "      <th>6.2</th>\n",
       "      <td>1</td>\n",
       "    </tr>\n",
       "    <tr>\n",
       "      <th>6.4</th>\n",
       "      <td>2</td>\n",
       "    </tr>\n",
       "    <tr>\n",
       "      <th>6.5</th>\n",
       "      <td>3</td>\n",
       "    </tr>\n",
       "    <tr>\n",
       "      <th>6.6</th>\n",
       "      <td>2</td>\n",
       "    </tr>\n",
       "    <tr>\n",
       "      <th>6.7</th>\n",
       "      <td>1</td>\n",
       "    </tr>\n",
       "    <tr>\n",
       "      <th>7.2</th>\n",
       "      <td>1</td>\n",
       "    </tr>\n",
       "    <tr>\n",
       "      <th>7.5</th>\n",
       "      <td>1</td>\n",
       "    </tr>\n",
       "    <tr>\n",
       "      <th>7.6</th>\n",
       "      <td>1</td>\n",
       "    </tr>\n",
       "    <tr>\n",
       "      <th>7.7</th>\n",
       "      <td>2</td>\n",
       "    </tr>\n",
       "    <tr>\n",
       "      <th>7.9</th>\n",
       "      <td>2</td>\n",
       "    </tr>\n",
       "    <tr>\n",
       "      <th>8.0</th>\n",
       "      <td>4</td>\n",
       "    </tr>\n",
       "    <tr>\n",
       "      <th>8.1</th>\n",
       "      <td>1</td>\n",
       "    </tr>\n",
       "    <tr>\n",
       "      <th>8.2</th>\n",
       "      <td>1</td>\n",
       "    </tr>\n",
       "    <tr>\n",
       "      <th>9.0</th>\n",
       "      <td>1</td>\n",
       "    </tr>\n",
       "    <tr>\n",
       "      <th>9.2</th>\n",
       "      <td>2</td>\n",
       "    </tr>\n",
       "  </tbody>\n",
       "</table>\n",
       "</div>"
      ],
      "text/plain": [
       "       frequency\n",
       "datos           \n",
       "4.0            1\n",
       "4.8            1\n",
       "5.0            2\n",
       "5.6            3\n",
       "5.7            2\n",
       "5.9            1\n",
       "6.0            4\n",
       "6.1            1\n",
       "6.2            1\n",
       "6.4            2\n",
       "6.5            3\n",
       "6.6            2\n",
       "6.7            1\n",
       "7.2            1\n",
       "7.5            1\n",
       "7.6            1\n",
       "7.7            2\n",
       "7.9            2\n",
       "8.0            4\n",
       "8.1            1\n",
       "8.2            1\n",
       "9.0            1\n",
       "9.2            2"
      ]
     },
     "execution_count": 15,
     "metadata": {},
     "output_type": "execute_result"
    }
   ],
   "source": [
    "(df\n",
    "  .groupby(\"datos\")\n",
    "  .agg(frequency=(\"datos\", \"count\"))\n",
    "  )"
   ]
  },
  {
   "cell_type": "code",
   "execution_count": 16,
   "metadata": {},
   "outputs": [
    {
     "name": "stdout",
     "output_type": "stream",
     "text": [
      "9.2\n",
      "4.0\n",
      "5.199999999999999\n"
     ]
    }
   ],
   "source": [
    "rango = max(datos) - min(datos)\n",
    "print(max(datos))\n",
    "print(min(datos))\n",
    "\n",
    "print(rango)"
   ]
  },
  {
   "cell_type": "code",
   "execution_count": 17,
   "metadata": {},
   "outputs": [
    {
     "name": "stdout",
     "output_type": "stream",
     "text": [
      "6\n"
     ]
    }
   ],
   "source": [
    "#Calcular el número de intervalos / numero optimo de grupos (fórmula de Sturges)\n",
    "import math\n",
    "k = 1+3.322*math.log10(len(datos))\n",
    "k = math.floor(k)\n",
    "print(k)"
   ]
  },
  {
   "cell_type": "code",
   "execution_count": 18,
   "metadata": {},
   "outputs": [
    {
     "name": "stdout",
     "output_type": "stream",
     "text": [
      "0.8666666666666666\n"
     ]
    }
   ],
   "source": [
    "ancho_clase = rango/k\n",
    "print(ancho_clase)"
   ]
  },
  {
   "cell_type": "code",
   "execution_count": 19,
   "metadata": {},
   "outputs": [
    {
     "name": "stdout",
     "output_type": "stream",
     "text": [
      "[(4.0, 4.866666666666666), (4.866666666666666, 5.7333333333333325), (5.7333333333333325, 6.599999999999999), (6.599999999999999, 7.466666666666665), (7.466666666666665, 8.333333333333332), (8.333333333333332, 9.2)]\n"
     ]
    }
   ],
   "source": [
    "#Ahora calculamos los intervalos\n",
    "intervalos = []\n",
    "inicio = 4.0\n",
    "\n",
    "for i in range(k):\n",
    "    intervalos.append((inicio,inicio+ancho_clase))\n",
    "    inicio = inicio + ancho_clase\n",
    "\n",
    "print(intervalos)"
   ]
  },
  {
   "cell_type": "code",
   "execution_count": 52,
   "metadata": {},
   "outputs": [
    {
     "data": {
      "text/html": [
       "<div>\n",
       "<style scoped>\n",
       "    .dataframe tbody tr th:only-of-type {\n",
       "        vertical-align: middle;\n",
       "    }\n",
       "\n",
       "    .dataframe tbody tr th {\n",
       "        vertical-align: top;\n",
       "    }\n",
       "\n",
       "    .dataframe thead th {\n",
       "        text-align: right;\n",
       "    }\n",
       "</style>\n",
       "<table border=\"1\" class=\"dataframe\">\n",
       "  <thead>\n",
       "    <tr style=\"text-align: right;\">\n",
       "      <th></th>\n",
       "      <th>FreqAbs</th>\n",
       "      <th>Marca</th>\n",
       "    </tr>\n",
       "    <tr>\n",
       "      <th>Intervalo</th>\n",
       "      <th></th>\n",
       "      <th></th>\n",
       "    </tr>\n",
       "  </thead>\n",
       "  <tbody>\n",
       "    <tr>\n",
       "      <th>(4.0, 4.8667]</th>\n",
       "      <td>1</td>\n",
       "      <td>4.43335</td>\n",
       "    </tr>\n",
       "    <tr>\n",
       "      <th>(4.8667, 5.7334000000000005]</th>\n",
       "      <td>7</td>\n",
       "      <td>5.30005</td>\n",
       "    </tr>\n",
       "    <tr>\n",
       "      <th>(5.7334000000000005, 6.6001]</th>\n",
       "      <td>14</td>\n",
       "      <td>6.16675</td>\n",
       "    </tr>\n",
       "    <tr>\n",
       "      <th>(6.6001, 7.466800000000001]</th>\n",
       "      <td>2</td>\n",
       "      <td>7.03345</td>\n",
       "    </tr>\n",
       "    <tr>\n",
       "      <th>(7.466800000000001, 8.3335]</th>\n",
       "      <td>12</td>\n",
       "      <td>7.90015</td>\n",
       "    </tr>\n",
       "    <tr>\n",
       "      <th>(8.3335, 9.2002]</th>\n",
       "      <td>3</td>\n",
       "      <td>8.76685</td>\n",
       "    </tr>\n",
       "  </tbody>\n",
       "</table>\n",
       "</div>"
      ],
      "text/plain": [
       "                              FreqAbs    Marca\n",
       "Intervalo                                     \n",
       "(4.0, 4.8667]                       1  4.43335\n",
       "(4.8667, 5.7334000000000005]        7  5.30005\n",
       "(5.7334000000000005, 6.6001]       14  6.16675\n",
       "(6.6001, 7.466800000000001]         2  7.03345\n",
       "(7.466800000000001, 8.3335]        12  7.90015\n",
       "(8.3335, 9.2002]                    3  8.76685"
      ]
     },
     "execution_count": 52,
     "metadata": {},
     "output_type": "execute_result"
    }
   ],
   "source": [
    "import numpy as np\n",
    "import pandas as pd\n",
    "\n",
    "\n",
    "data = np.array(\n",
    "[[6.5],[5.0],[5.6],[7.6],[4.8],[8.0],[7.5],[7.9],[8.0],\n",
    "[9.2],[6.4],[6.0],[5.6],[6.0],[5.7],[9.2],[8.1],[8.0],\n",
    "[6.5],[6.6],[5.0],[8.0],[6.5],[6.1],[6.4],[6.6],[7.2],\n",
    "[5.9],[4.0],[5.7],[7.9],[6.0],[5.6],[6.0],[6.2],[7.7],\n",
    "[6.7],[7.7],[8.2],[9.0]]\n",
    "    )\n",
    "\n",
    "datos = data.flatten()\n",
    "\n",
    "\n",
    "freq = 1               # Amplitud de los intervalos\n",
    "inf = datos.min()        # Limite inferior del primer intervalo\n",
    "dif = (datos.min() - datos.max()) % freq or freq\n",
    "sup = datos.max() + dif  # Limite superior del último intervalo\n",
    "\n",
    "intervals = pd.interval_range(\n",
    "    start=inf,\n",
    "    end=sup,\n",
    "    freq=ancho_clase,\n",
    "    name=\"Intervalo\"\n",
    "    )\n",
    "\n",
    "df = pd.DataFrame(index=intervals)\n",
    "df[\"FreqAbs\"] = pd.cut(datos, bins=df.index).value_counts()\n",
    "df[\"Marca\"]  = df.index.mid\n",
    "df"
   ]
  },
  {
   "cell_type": "code",
   "execution_count": 51,
   "metadata": {},
   "outputs": [
    {
     "data": {
      "text/html": [
       "<div>\n",
       "<style scoped>\n",
       "    .dataframe tbody tr th:only-of-type {\n",
       "        vertical-align: middle;\n",
       "    }\n",
       "\n",
       "    .dataframe tbody tr th {\n",
       "        vertical-align: top;\n",
       "    }\n",
       "\n",
       "    .dataframe thead th {\n",
       "        text-align: right;\n",
       "    }\n",
       "</style>\n",
       "<table border=\"1\" class=\"dataframe\">\n",
       "  <thead>\n",
       "    <tr style=\"text-align: right;\">\n",
       "      <th></th>\n",
       "      <th>FreqAbs</th>\n",
       "      <th>Marca</th>\n",
       "    </tr>\n",
       "    <tr>\n",
       "      <th>Intervalo</th>\n",
       "      <th></th>\n",
       "      <th></th>\n",
       "    </tr>\n",
       "  </thead>\n",
       "  <tbody>\n",
       "    <tr>\n",
       "      <th>[4.0, 4.8667)</th>\n",
       "      <td>2</td>\n",
       "      <td>4.43335</td>\n",
       "    </tr>\n",
       "    <tr>\n",
       "      <th>[4.8667, 5.7334000000000005)</th>\n",
       "      <td>7</td>\n",
       "      <td>5.30005</td>\n",
       "    </tr>\n",
       "    <tr>\n",
       "      <th>[5.7334000000000005, 6.6001)</th>\n",
       "      <td>14</td>\n",
       "      <td>6.16675</td>\n",
       "    </tr>\n",
       "    <tr>\n",
       "      <th>[6.6001, 7.466800000000001)</th>\n",
       "      <td>2</td>\n",
       "      <td>7.03345</td>\n",
       "    </tr>\n",
       "    <tr>\n",
       "      <th>[7.466800000000001, 8.3335)</th>\n",
       "      <td>12</td>\n",
       "      <td>7.90015</td>\n",
       "    </tr>\n",
       "    <tr>\n",
       "      <th>[8.3335, 9.2002)</th>\n",
       "      <td>3</td>\n",
       "      <td>8.76685</td>\n",
       "    </tr>\n",
       "  </tbody>\n",
       "</table>\n",
       "</div>"
      ],
      "text/plain": [
       "                              FreqAbs    Marca\n",
       "Intervalo                                     \n",
       "[4.0, 4.8667)                       2  4.43335\n",
       "[4.8667, 5.7334000000000005)        7  5.30005\n",
       "[5.7334000000000005, 6.6001)       14  6.16675\n",
       "[6.6001, 7.466800000000001)         2  7.03345\n",
       "[7.466800000000001, 8.3335)        12  7.90015\n",
       "[8.3335, 9.2002)                    3  8.76685"
      ]
     },
     "execution_count": 51,
     "metadata": {},
     "output_type": "execute_result"
    }
   ],
   "source": [
    "import math\n",
    "from decimal import *\n",
    "\n",
    "datos = [6.5,5.0,5.6,7.6,4.8,8.0,7.5,7.9,8.0,9.2,\n",
    "6.4,6.0,5.6,6.0,5.7,9.2,8.1,8.0,6.5,6.6,\n",
    "5.0,8.0,6.5,6.1,6.4,6.6,7.2,5.9,4.0,5.7,\n",
    "7.9,6.0,5.6,6.0,6.2,7.7,6.7,7.7,8.2,9.0]\n",
    "\n",
    "rango = max(datos) - min(datos)\n",
    "\n",
    "k = 1+3.322*math.log10(len(datos))\n",
    "k = math.floor(k)\n",
    "\n",
    "\n",
    "ancho_clase = rango/k\n",
    "\n",
    "ancho_clase = round(ancho_clase, 4)\n",
    "\n",
    "freq = ancho_clase               # Amplitud de los intervalos\n",
    "inf = min(datos)        # Limite inferior del primer intervalo\n",
    "dif = (min(datos) - max(datos)) % freq or freq\n",
    "sup = max(datos) + dif  # Limite superior del último intervalo\n",
    "\n",
    "intervals = pd.interval_range(\n",
    "    start=inf,\n",
    "    end=sup,\n",
    "    freq=freq,\n",
    "    name=\"Intervalo\",\n",
    "    )\n",
    "\n",
    "df = pd.DataFrame(index=intervals)\n",
    "df[\"FreqAbs\"] = pd.cut(datos, bins=df.index).value_counts()\n",
    "df[\"Marca\"]  = df.index.mid\n",
    "df\n"
   ]
  },
  {
   "cell_type": "code",
   "execution_count": 21,
   "metadata": {},
   "outputs": [
    {
     "name": "stdout",
     "output_type": "stream",
     "text": [
      "1.9250000000000007\n",
      "5.975\n",
      "7.9\n"
     ]
    }
   ],
   "source": [
    "import numpy as np\n",
    "\n",
    "#define matriz de datos\n",
    "datos = np.array ([6.5,5.0,5.6,7.6,4.8,8.0,7.5,7.9,8.0,9.2,\n",
    "6.4,6.0,5.6,6.0,5.7,9.2,8.1,8.0,6.5,6.6,\n",
    "5.0,8.0,6.5,6.1,6.4,6.6,7.2,5.9,4.0,5.7,\n",
    "7.9,6.0,5.6,6.0,6.2,7.7,6.7,7.7,8.2,9.0])\n",
    "\n",
    "# calcular el rango intercuartílico  \n",
    "q3, q1 = np.percentile(datos, [75, 25])\n",
    "iqr = q3 - q1\n",
    "\n",
    "#display rango intercuartílico \n",
    "print(iqr)\n",
    "print(q1)\n",
    "print(q3)"
   ]
  },
  {
   "cell_type": "code",
   "execution_count": 22,
   "metadata": {},
   "outputs": [
    {
     "data": {
      "text/plain": [
       "[<matplotlib.lines.Line2D at 0x293c56041c0>]"
      ]
     },
     "execution_count": 22,
     "metadata": {},
     "output_type": "execute_result"
    },
    {
     "data": {
      "image/png": "[encoded data removed]",
      "text/plain": [
       "<Figure size 432x288 with 1 Axes>"
      ]
     },
     "metadata": {
      "needs_background": "light"
     },
     "output_type": "display_data"
    }
   ],
   "source": [
    "import matplotlib.pyplot as plt\n",
    "import numpy as np\n",
    "datos = [6.5,5.0,5.6,7.6,4.8,8.0,7.5,7.9,8.0,9.2,\n",
    "6.4,6.0,5.6,6.0,5.7,9.2,8.1,8.0,6.5,6.6,\n",
    "5.0,8.0,6.5,6.1,6.4,6.6,7.2,5.9,4.0,5.7,\n",
    "7.9,6.0,5.6,6.0,6.2,7.7,6.7,7.7,8.2,9.0]\n",
    "\n",
    "nivel1 = np.random.rand(40)*100\n",
    "nivel1.sort()\n",
    "plt.plot(nivel1,datos)"
   ]
  },
  {
   "cell_type": "code",
   "execution_count": 23,
   "metadata": {},
   "outputs": [
    {
     "data": {
      "image/png": "[encoded data removed]",
      "text/plain": [
       "<Figure size 432x288 with 1 Axes>"
      ]
     },
     "metadata": {
      "needs_background": "light"
     },
     "output_type": "display_data"
    }
   ],
   "source": [
    "import numpy as np \n",
    "import matplotlib.pyplot as plt\n",
    "\n",
    "data = datos\n",
    "hist, bin_edges = np.histogram(data, 40)\n",
    "plt.hist(data, bins=bin_edges)\n",
    "plt.show()"
   ]
  }
 ],
 "metadata": {
  "kernelspec": {
   "display_name": "Python 3.9.1 64-bit",
   "language": "python",
   "name": "python3"
  },
  "language_info": {
   "codemirror_mode": {
    "name": "ipython",
    "version": 3
   },
   "file_extension": ".py",
   "mimetype": "text/x-python",
   "name": "python",
   "nbconvert_exporter": "python",
   "pygments_lexer": "ipython3",
   "version": "3.9.1"
  },
  "orig_nbformat": 4,
  "vscode": {
   "interpreter": {
    "hash": "11938c6bc6919ae2720b4d5011047913343b08a43b18698fd82dedb0d4417594"
   }
  }
 },
 "nbformat": 4,
 "nbformat_minor": 2
}
